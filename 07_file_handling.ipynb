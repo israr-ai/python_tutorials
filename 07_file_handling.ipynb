{
 "cells": [
  {
   "cell_type": "code",
   "execution_count": null,
   "id": "972a52f8",
   "metadata": {},
   "outputs": [
    {
     "name": "stdout",
     "output_type": "stream",
     "text": [
      "this is file\n"
     ]
    }
   ],
   "source": [
    "# --read--file----------\n",
    "f = open('hell.txt')\n",
    "print(f.read())"
   ]
  },
  {
   "cell_type": "code",
   "execution_count": 11,
   "id": "4b4406a6",
   "metadata": {},
   "outputs": [
    {
     "name": "stdout",
     "output_type": "stream",
     "text": [
      "this is file\n",
      "\n",
      "----------loop--throw-----------------\n",
      "this is file\n",
      "\n",
      "1--theis sdef\n",
      "\n",
      "2.sekfdls\n",
      "\n",
      "5skglklk\n",
      "\n",
      "4.shggelffl\n"
     ]
    }
   ],
   "source": [
    "# ----using--with---------------\n",
    "# with open('hell.txt') as f:\n",
    "#       print(f.read())\n",
    "\n",
    "\n",
    "\n",
    "# not--using--the--with---then---close--file---\n",
    "f = open('hell.txt')\n",
    "# print(f.read(5))\n",
    "# f.close()\n",
    "\n",
    "\n",
    "# ----readline()-----one-line--return----\n",
    "print(f.readline())\n",
    "\n",
    "print(\"----------loop--throw-----------------\")\n",
    "with open('hell.txt') as f:\n",
    "    for x in f:\n",
    "        print(x)"
   ]
  },
  {
   "cell_type": "code",
   "execution_count": 22,
   "id": "14cb389b",
   "metadata": {},
   "outputs": [
    {
     "name": "stdout",
     "output_type": "stream",
     "text": [
      "this is new file create successfullyy!\n"
     ]
    }
   ],
   "source": [
    "# -----write--and--create---file-----------------\n",
    "# with open(\"hell.txt\",\"a\") as f:\n",
    "#     f.write(\" this  is file write the with\")\n",
    "\n",
    "#reading a file\n",
    "# with open(\"hell.txt\") as f:\n",
    "#     print(f.read())\n",
    "\n",
    "\n",
    "#--overwirting---a-file--------------\n",
    "# with open(\"hell.txt\",\"w\") as f:\n",
    "#     f.write(\"this file is deleted\")\n",
    "\n",
    "# #read\n",
    "# with open(\"hell.txt\") as f:\n",
    "#     print(f.read())\n",
    "\n",
    "\n",
    "#----createing----a--new---file------------------\n",
    "# with open(\"myfile.txt\", \"x\"):\n",
    "    # f.write('new file create successfully')\n",
    "\n",
    "with open('myfile.txt','a') as f:\n",
    "    f.write('this is new file create successfullyy!')\n",
    "\n",
    "#reading \n",
    "with open(\"myfile.txt\") as f:\n",
    "    print(f.read())"
   ]
  },
  {
   "cell_type": "code",
   "execution_count": 28,
   "id": "00f352c0",
   "metadata": {},
   "outputs": [
    {
     "name": "stdout",
     "output_type": "stream",
     "text": [
      "The file not exits\n"
     ]
    }
   ],
   "source": [
    "# -------------delete---a---file---------------\n",
    "import os\n",
    "\n",
    "if os.path.exists('hell.txt'):\n",
    "    os.remove('hell.txt')\n",
    "    print('file is remove successfully')\n",
    "else:\n",
    "    print('The file not exits')\n",
    "\n",
    "\n",
    "#----delete---folder---------------\n",
    "# os.rmdir(\"mydoler\")"
   ]
  }
 ],
 "metadata": {
  "kernelspec": {
   "display_name": "Python 3",
   "language": "python",
   "name": "python3"
  },
  "language_info": {
   "codemirror_mode": {
    "name": "ipython",
    "version": 3
   },
   "file_extension": ".py",
   "mimetype": "text/x-python",
   "name": "python",
   "nbconvert_exporter": "python",
   "pygments_lexer": "ipython3",
   "version": "3.11.4"
  }
 },
 "nbformat": 4,
 "nbformat_minor": 5
}
