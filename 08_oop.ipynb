{
 "cells": [
  {
   "cell_type": "code",
   "execution_count": 3,
   "id": "966a7f2b",
   "metadata": {},
   "outputs": [
    {
     "name": "stdout",
     "output_type": "stream",
     "text": [
      "<class '__main__.cars'>\n",
      "BMW\n"
     ]
    }
   ],
   "source": [
    "# ---------create---clsss------------\n",
    "class cars:\n",
    "    x = 'BMW'\n",
    "print(cars)\n",
    "print(cars.x)"
   ]
  },
  {
   "cell_type": "code",
   "execution_count": 7,
   "id": "83c9397c",
   "metadata": {},
   "outputs": [
    {
     "name": "stdout",
     "output_type": "stream",
     "text": [
      "person name is  Rohan  and age is  24\n"
     ]
    }
   ],
   "source": [
    "# ----- __init__--------------\n",
    "class Person:\n",
    "    def __init__(self,name,age):\n",
    "        self.name = name\n",
    "        self.age = age\n",
    "p1 = Person('Rohan',24)\n",
    "print(\"person name is \",p1.name,\" and age is \",p1.age)\n",
    "\n"
   ]
  },
  {
   "cell_type": "code",
   "execution_count": null,
   "id": "1e69acce",
   "metadata": {},
   "outputs": [
    {
     "name": "stdout",
     "output_type": "stream",
     "text": [
      "<__main__.Person object at 0x000002319BB2F010>\n",
      "\n",
      "<__main__.Person object at 0x000002319BB2C9D0>\n"
     ]
    }
   ],
   "source": [
    "# -------------__self__--------------------------\n",
    "class Person:\n",
    "    def __init__(self,city,area):\n",
    "        self.city = city\n",
    "        self.area = area\n",
    "p1 = Person('taniya',23)\n",
    "print(p1)\n",
    "print('')\n",
    "\n",
    "class Person:\n",
    "    def __init__(self,name,age):\n",
    "        self.name = name\n",
    "        self.age = age\n",
    "    \n",
    "    def __self__(self):\n",
    "        return f\"{self.name}{(self.age)}\"\n",
    "    \n",
    "p2 = Person('sonu',13)\n",
    "print(p2)"
   ]
  },
  {
   "cell_type": "code",
   "execution_count": 4,
   "id": "7393be6e",
   "metadata": {},
   "outputs": [
    {
     "name": "stdout",
     "output_type": "stream",
     "text": [
      "Drive\n",
      "shail\n",
      "Brand name Ibiza\n",
      "fly\n"
     ]
    }
   ],
   "source": [
    "# --------Polymorphisam---------------------\n",
    "class Car:\n",
    "    def __init__(self,brand, model):\n",
    "        self.brand = brand\n",
    "        self.model = model\n",
    "    def move(self):\n",
    "        print('Drive')\n",
    "\n",
    "# //--class--boat\n",
    "class Boat:\n",
    "    def __init__(self, brand, model):\n",
    "        self.brand = brand\n",
    "        self.model = model\n",
    "    def move(self):\n",
    "        print('shail')\n",
    "        print('Brand name',self.brand)\n",
    "\n",
    "#--class--plane-----------\n",
    "class Plane:\n",
    "    def __init__(self, brand, model):\n",
    "        self.brand = brand\n",
    "        self.model = model\n",
    "    \n",
    "    def move(self):\n",
    "        print('fly')\n",
    "\n",
    "#--create--obj-------------\n",
    "car = Car('ford', 'Mustang')\n",
    "boat = Boat('Ibiza', 'toring 20')\n",
    "plane = Plane('Boeng','7474')\n",
    "\n",
    "for x in (car, boat, plane):\n",
    "    x.move()\n",
    "        "
   ]
  },
  {
   "cell_type": "code",
   "execution_count": null,
   "id": "ff865d2e",
   "metadata": {},
   "outputs": [
    {
     "name": "stdout",
     "output_type": "stream",
     "text": [
      "---------Car---class----------------\n",
      "Brand name  {'Ford'} and model is  {'Mustang'}\n"
     ]
    }
   ],
   "source": [
    "# ----Polymorphisam--with---inheritance-------------------\n",
    "class Vehical:\n",
    "    def __init__(self, brand, model):\n",
    "        self.brand = brand\n",
    "        self.model = model\n",
    "    \n",
    "    def move(self):\n",
    "        print(\"Brand name \",{self.brand}, \"and model is \",{self.model})\n",
    "\n",
    "# //Class--car-------------\n",
    "class Car(Vehical):\n",
    "    print('---------Car---class----------------')\n",
    "    \n",
    "    def move(self):\n",
    "        print(\"Brand name \",{self.brand}, \"and model is \",{self.model})\n",
    "\n",
    "\n",
    "class Boat(Person):\n",
    "    def move(self):\n",
    "        print(\"---------class--Boat--------------------\")\n",
    "        print(\"Brand name \",{self.brand}, \"and model is \",{self.model})\n",
    "\n",
    "# //create---object------------\n",
    "c1 = Car('Ford', 'Mustang')\n",
    "c1.move()\n",
    "\n",
    "    "
   ]
  }
 ],
 "metadata": {
  "kernelspec": {
   "display_name": "Python 3",
   "language": "python",
   "name": "python3"
  },
  "language_info": {
   "codemirror_mode": {
    "name": "ipython",
    "version": 3
   },
   "file_extension": ".py",
   "mimetype": "text/x-python",
   "name": "python",
   "nbconvert_exporter": "python",
   "pygments_lexer": "ipython3",
   "version": "3.11.4"
  }
 },
 "nbformat": 4,
 "nbformat_minor": 5
}
