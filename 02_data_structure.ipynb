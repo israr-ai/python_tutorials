{
 "cells": [
  {
   "cell_type": "code",
   "execution_count": 9,
   "id": "d6841a8a",
   "metadata": {},
   "outputs": [
    {
     "name": "stdout",
     "output_type": "stream",
     "text": [
      "List created using constructor: [6, 7, 8]\n",
      "Is 3 in my_list? True\n",
      "List of squares from 0 to 5: [0, 1, 4, 9, 16, 25]\n"
     ]
    }
   ],
   "source": [
    "#---List------\n",
    "my_list = [2, 1, 3, 4, 5]\n",
    "# print(\"List:\", my_list)\n",
    "# print(\"First element:\", my_list[0])\n",
    "\n",
    "#----allow duplicates and changeable------\n",
    "my_list.append(6)\n",
    "# print(\"After appending 6 :\", my_list)\n",
    "# my_list[0] = 10\n",
    "# print(\"After changing first element to 10:\", my_list)\n",
    "# print(\"List allows duplicates:\", my_list + [10, 2])\n",
    "\n",
    "#----length------\n",
    "# print(\"Length of the list:\", len(my_list))\n",
    "\n",
    "#----list -constructor------\n",
    "my_list2 = list((6, 7, 8))\n",
    "print(\"List created using constructor:\", my_list2)\n",
    "\n",
    "#---list methods------\n",
    "'''\n",
    "my_list2.append(9)\n",
    "print(\"After appending 9:\", my_list2)\n",
    "my_list2.insert(0, 5)\n",
    "print(\"After inserting 5 at index 0:\", my_list2)\n",
    "my_list2.remove(7)\n",
    "print(\"After removing 7:\", my_list2)\n",
    "\n",
    "my_list2.pop()\n",
    "print(\"After popping last element:\", my_list2)\n",
    "my_list2.pop(0)\n",
    "print(\"After popping element at index 0:\", my_list2)\n",
    "my_list2.clear()\n",
    "print(\"After clearing the list:\", my_list2)\n",
    "'''\n",
    "\n",
    "#-----checking element------\n",
    "print(\"Is 3 in my_list?\", 3 in my_list)\n",
    "\n",
    "#---list comprehension------\n",
    "squares = [x**2 for x in range(6)]\n",
    "print(\"List of squares from 0 to 5:\", squares)\n",
    "\n"
   ]
  },
  {
   "cell_type": "code",
   "execution_count": 6,
   "id": "6b98145c",
   "metadata": {},
   "outputs": [
    {
     "name": "stdout",
     "output_type": "stream",
     "text": [
      "Tuple : (1, 2, 3, 4, 5)\n",
      "First element of tuple : 1\n",
      "The tuple allows duplicates : (1, 2, 3, 2, 1)\n",
      "After trying to change first element to 10 : (1, 2, 3, 4, 5)\n",
      "------------length of the tuple-----------\n",
      "length of the tuple : 5\n",
      "---------------create tuple with one element--------------------\n",
      "Tuple with one element : <class 'int'>\n",
      "Type of my_tuple3 : <class 'int'>\n",
      "---------------tuple data type--------------------\n",
      "tuple with different data types : ('string', 1, True, 3.14, [1, 2], (3, 4))\n",
      "---------------tuple constructor--------------------\n",
      "Tuple created using constructor : (6, 7, 8)\n",
      "Type of my_tuple5 : <class 'tuple'>\n"
     ]
    }
   ],
   "source": [
    "#----Tuple----allow duplicates and unchangeable--ordered------\n",
    "my_tuple = (1, 2, 3, 4, 5)\n",
    "print(\"Tuple :\", my_tuple)\n",
    "print(\"First element of tuple :\", my_tuple[0])\n",
    "\n",
    "#--allow duplicates------\n",
    "my_tuple2 = (1, 2, 3, 2, 1)\n",
    "print(\"The tuple allows duplicates :\", my_tuple2)\n",
    "\n",
    "#--unchangeable------\n",
    "# my_tuple[0] = 10 # This will raise an error\n",
    "print(\"After trying to change first element to 10 :\", my_tuple)\n",
    "\n",
    "#---length------\n",
    "print(\"------------length of the tuple-----------\")\n",
    "print(\"length of the tuple :\", len(my_tuple))\n",
    "\n",
    "\n",
    "#---create tuple with one element-------\n",
    "print(\"---------------create tuple with one element--------------------\")\n",
    "my_tuple3 = (1,)\n",
    "my_tuple3 = (1) # This is not a tuple\n",
    "print(\"Tuple with one element :\", type(my_tuple3))\n",
    "print(\"Type of my_tuple3 :\", type(my_tuple3))\n",
    "\n",
    "#-------tuple data type------------------------------------\n",
    "print(\"---------------tuple data type--------------------\")\n",
    "my_tuple4 = (\"string\", 1, True, 3.14 , [1, 2], (3, 4))\n",
    "print(\"tuple with different data types :\", my_tuple4)\n",
    "\n",
    "#---------tuple constructor------\n",
    "print(\"---------------tuple constructor--------------------\")\n",
    "my_tuple5 = tuple((6, 7, 8))\n",
    "print(\"Tuple created using constructor :\", my_tuple5)\n",
    "print(\"Type of my_tuple5 :\", type(my_tuple5))\n"
   ]
  },
  {
   "cell_type": "code",
   "execution_count": 7,
   "id": "3c93cd51",
   "metadata": {},
   "outputs": [
    {
     "name": "stdout",
     "output_type": "stream",
     "text": [
      "---------------Access tuple elements--------------------\n",
      "First element : apple\n",
      "last element : mango\n",
      "Elements from index 2 to 4 : ('cherry', 'orange', 'kiwi')\n",
      "Elements from index 2 to end : ('cherry', 'orange', 'kiwi', 'melon', 'mango')\n",
      "Elements from start to index 4 : ('apple', 'banana', 'cherry', 'orange', 'kiwi')\n",
      "Elements from index -4 to -1 : ('orange', 'kiwi', 'melon')\n",
      "Elements from start to index -1 : ('apple', 'banana', 'cherry', 'orange', 'kiwi', 'melon')\n",
      "Elements from index -4 to end : ('orange', 'kiwi', 'melon', 'mango')\n",
      "Elements from index 1 to 5 with step 2 : ('banana', 'orange', 'melon')\n",
      "Elements from start to end with step 2 : ('apple', 'cherry', 'kiwi', 'mango')\n",
      "Elements from end to start with step -1 : ('mango', 'melon', 'kiwi', 'orange', 'cherry', 'banana', 'apple')\n",
      "Elements from index 5 to 1 with step -1 : ('melon', 'kiwi', 'orange', 'cherry', 'banana')\n"
     ]
    }
   ],
   "source": [
    "#--------Access tuple elemtents---------\n",
    "print(\"---------------Access tuple elements--------------------\")\n",
    "tuple1 = (\"apple\", \"banana\", \"cherry\",\"orange\", \"kiwi\", \"melon\", \"mango\")\n",
    "print(\"First element :\", tuple1[0])\n",
    "print(\"last element :\", tuple1[-1])\n",
    "print(\"Elements from index 2 to 4 :\", tuple1[2:5])\n",
    "print(\"Elements from index 2 to end :\", tuple1[2:])\n",
    "print(\"Elements from start to index 4 :\", tuple1[:5])\n",
    "print(\"Elements from index -4 to -1 :\", tuple1[-4:-1])\n",
    "print(\"Elements from start to index -1 :\", tuple1[:-1])\n",
    "print(\"Elements from index -4 to end :\", tuple1[-4:])\n",
    "print(\"Elements from index 1 to 5 with step 2 :\", tuple1[1:6:2])\n",
    "print(\"Elements from start to end with step 2 :\", tuple1[::2])\n",
    "print(\"Elements from end to start with step -1 :\", tuple1[::-1])\n",
    "print(\"Elements from index 5 to 1 with step -1 :\", tuple1[5:0:-1])"
   ]
  },
  {
   "cell_type": "code",
   "execution_count": 15,
   "id": "6b3974b7",
   "metadata": {},
   "outputs": [
    {
     "name": "stdout",
     "output_type": "stream",
     "text": [
      "---------------tuple methods--------------------\n",
      "Count of 2 in tuple2 : 2\n",
      "Index of first occurrence of 4 in tuple2 : 5\n",
      "---------------changing tuple to list and vice versa--------------------\n",
      "modified tuple2 : (20, 3, 2, 1, 4, 5, 70)\n",
      "---------------unpacking a tuple--------------------\n",
      "green : apple\n"
     ]
    }
   ],
   "source": [
    "#-------tuple methods------\n",
    "print(\"---------------tuple methods--------------------\")\n",
    "tuple2 = (1, 2, 3, 2, 1, 4, 5)\n",
    "print(\"Count of 2 in tuple2 :\", tuple2.count(2))\n",
    "print(\"Index of first occurrence of 4 in tuple2 :\", tuple2.index(4))\n",
    "\n",
    "#----changing tuple to list and vice versa------\n",
    "print(\"---------------changing tuple to list and vice versa--------------------\")\n",
    "y = list(tuple2)\n",
    "y[0] = 20\n",
    "y.append(70)\n",
    "y.remove(2)\n",
    "tuple2 = tuple(y)\n",
    "print(\"modified tuple2 :\", tuple2)\n",
    "\n",
    "del tuple2\n",
    "# print(\"tuple2 after deleting :\", tuple2) # This will raise an error\n",
    "\n",
    "#-------unpacking a tuple------\n",
    "print(\"---------------unpacking a tuple--------------------\")\n",
    "tuple3 = (\"apple\", \"banana\", \"cherry\")\n",
    "(green, yellow, red) = tuple3\n",
    "print(\"green :\", green)\n",
    "\n"
   ]
  },
  {
   "cell_type": "code",
   "execution_count": 17,
   "id": "13a2f69f",
   "metadata": {},
   "outputs": [
    {
     "name": "stdout",
     "output_type": "stream",
     "text": [
      "Set: {1, 2, 3, 4, 5}\n",
      "Is 3 in my_set? True\n",
      "After adding 6: {1, 2, 3, 4, 5, 6}\n",
      "After removing 2: {1, 3, 4, 5, 6}\n",
      "dublicate value not allowed in set\n"
     ]
    }
   ],
   "source": [
    "#--------sets--------unordered, unindexed, no duplicates------\n",
    "my_set = {1, 2, 3, 4, 5,2, 3}\n",
    "print(\"Set:\", my_set)\n",
    "print(\"Is 3 in my_set?\", 3 in my_set)\n",
    "my_set.add(6)\n",
    "print(\"After adding 6:\", my_set)\n",
    "my_set.remove(2)\n",
    "print(\"After removing 2:\", my_set)\n",
    "print(\"dublicate value not allowed in set\")\n"
   ]
  },
  {
   "cell_type": "code",
   "execution_count": null,
   "id": "4b9fe76a",
   "metadata": {},
   "outputs": [
    {
     "name": "stdout",
     "output_type": "stream",
     "text": [
      "{'city:vapi', 'name:varun', 'phone:90445083', 'area:bhilad'}\n",
      "<class 'set'>\n"
     ]
    },
    {
     "ename": "TypeError",
     "evalue": "'set' object does not support item assignment",
     "output_type": "error",
     "traceback": [
      "\u001b[31m---------------------------------------------------------------------------\u001b[39m",
      "\u001b[31mTypeError\u001b[39m                                 Traceback (most recent call last)",
      "\u001b[36mCell\u001b[39m\u001b[36m \u001b[39m\u001b[32mIn[13]\u001b[39m\u001b[32m, line 7\u001b[39m\n\u001b[32m      5\u001b[39m \u001b[38;5;28mprint\u001b[39m(dic)\n\u001b[32m      6\u001b[39m \u001b[38;5;28mprint\u001b[39m(\u001b[38;5;28mtype\u001b[39m(dic))\n\u001b[32m----> \u001b[39m\u001b[32m7\u001b[39m \u001b[43mdic\u001b[49m\u001b[43m[\u001b[49m\u001b[33;43m\"\u001b[39;49m\u001b[33;43mname\u001b[39;49m\u001b[33;43m\"\u001b[39;49m\u001b[43m]\u001b[49m =\u001b[33m\"\u001b[39m\u001b[33mwaseem\u001b[39m\u001b[33m\"\u001b[39m\n\u001b[32m      8\u001b[39m \u001b[38;5;28mprint\u001b[39m(\u001b[33m\"\u001b[39m\u001b[33mprint Name:\u001b[39m\u001b[33m\"\u001b[39m)\n",
      "\u001b[31mTypeError\u001b[39m: 'set' object does not support item assignment"
     ]
    }
   ],
   "source": [
    "#------------dictionary------------------------\n",
    "dic ={\"name:varun\",\"city:vapi\",\n",
    "      \"area:bhilad\",\n",
    "      \"phone:90445083\"}\n",
    "print(dic)\n",
    "print(type(dic))\n",
    "print(\"print Name:\")"
   ]
  }
 ],
 "metadata": {
  "kernelspec": {
   "display_name": "Python 3",
   "language": "python",
   "name": "python3"
  },
  "language_info": {
   "codemirror_mode": {
    "name": "ipython",
    "version": 3
   },
   "file_extension": ".py",
   "mimetype": "text/x-python",
   "name": "python",
   "nbconvert_exporter": "python",
   "pygments_lexer": "ipython3",
   "version": "3.11.4"
  }
 },
 "nbformat": 4,
 "nbformat_minor": 5
}
