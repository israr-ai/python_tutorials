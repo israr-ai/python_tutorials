{
 "cells": [
  {
   "cell_type": "markdown",
   "id": "ddb2dae0",
   "metadata": {},
   "source": [
    "---------FUNCTION---RECURSIONS---------------"
   ]
  },
  {
   "cell_type": "code",
   "execution_count": 4,
   "id": "9b090837",
   "metadata": {},
   "outputs": [
    {
     "name": "stdout",
     "output_type": "stream",
     "text": [
      "this is function\n",
      "\n",
      "my name is : varun\n",
      "my name is : ruhi khan\n",
      "my name is : israr\n"
     ]
    }
   ],
   "source": [
    "#----FUNCTON-----------\n",
    "def fun1():\n",
    "    print(\"this is function\")\n",
    "fun1()\n",
    "\n",
    "print(\"\")\n",
    "#-------with--argument----------\n",
    "def fun2(name):\n",
    "    print(\"my name is :\",name)\n",
    "fun2(\"varun\")\n",
    "\n",
    "#----default--parameter-----------\n",
    "def func3(name=\"israr\"):\n",
    "    print(\"my name is :\",name)\n",
    "func3(\"ruhi khan\")\n",
    "func3()"
   ]
  },
  {
   "cell_type": "code",
   "execution_count": null,
   "id": "1890323d",
   "metadata": {},
   "outputs": [],
   "source": [
    "#---Recursion-------------\n",
    "\n",
    "def factorial(n):\n",
    "    i=3\n",
    "    if i == 0 or i == 1:\n",
    "        return 1\n",
    "    else:\n",
    "        return n* factorial(n-1)\n",
    "    \n",
    "# factorial(4)\n"
   ]
  }
 ],
 "metadata": {
  "kernelspec": {
   "display_name": "Python 3",
   "language": "python",
   "name": "python3"
  },
  "language_info": {
   "codemirror_mode": {
    "name": "ipython",
    "version": 3
   },
   "file_extension": ".py",
   "mimetype": "text/x-python",
   "name": "python",
   "nbconvert_exporter": "python",
   "pygments_lexer": "ipython3",
   "version": "3.11.4"
  }
 },
 "nbformat": 4,
 "nbformat_minor": 5
}
