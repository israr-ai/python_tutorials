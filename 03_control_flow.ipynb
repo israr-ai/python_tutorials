{
 "cells": [
  {
   "cell_type": "code",
   "execution_count": 3,
   "id": "28665494",
   "metadata": {},
   "outputs": [
    {
     "name": "stdout",
     "output_type": "stream",
     "text": [
      "allow to vote\n"
     ]
    }
   ],
   "source": [
    "#------if condition-------------\n",
    "age = 18\n",
    "if age >= 18:\n",
    "    print(\"allow to vote\")\n",
    "else:\n",
    "    print(\"not to vote\")\n"
   ]
  },
  {
   "cell_type": "code",
   "execution_count": 8,
   "id": "dd0b5d9e",
   "metadata": {},
   "outputs": [
    {
     "name": "stdout",
     "output_type": "stream",
     "text": [
      "weekend\n"
     ]
    }
   ],
   "source": [
    "#-----if--else---if---condition----------\n",
    "day =\"wednesday\"\n",
    "if day == \"Monday\":\n",
    "    print(\"going to school\")\n",
    "if day == \"sunday\":\n",
    "    print(\"Holyday\")\n",
    "if day == \"wednesday\":\n",
    "    print(\"weekend\")\n",
    "else:\n",
    "    print(\"try again\")\n"
   ]
  },
  {
   "cell_type": "code",
   "execution_count": 11,
   "id": "e231c736",
   "metadata": {},
   "outputs": [
    {
     "name": "stdout",
     "output_type": "stream",
     "text": [
      "Magrib time prayer\n"
     ]
    }
   ],
   "source": [
    "#---if---elif---condition-----------\n",
    "time =\"7:00pm\"\n",
    "if time == \"5:00am\":\n",
    "    print(\"fazar time prayer\")\n",
    "elif time == \"1:15pm\":\n",
    "    print(\"johar time prayer\")\n",
    "elif time ==\"5:00pm\":\n",
    "    print(\"Ashar time prayer\")\n",
    "elif time == \"7:00pm\":\n",
    "    print(\"Magrib time prayer\")\n",
    "elif time == \"8:30pm\":\n",
    "    print(\"Isha time prayer\")\n",
    "else:\n",
    "    print(\"try currect time\")"
   ]
  },
  {
   "cell_type": "code",
   "execution_count": 13,
   "id": "c312d733",
   "metadata": {},
   "outputs": [
    {
     "name": "stdout",
     "output_type": "stream",
     "text": [
      "item no : 0\n",
      "item no : 1\n",
      "item no : 2\n",
      "item no : 3\n",
      "item no : 4\n"
     ]
    }
   ],
   "source": [
    "#-----loop--control-----------------\n",
    "#while loop\n",
    "item =0\n",
    "while item<5:\n",
    "    print(\"item no :\",item)\n",
    "    item +=1\n"
   ]
  },
  {
   "cell_type": "code",
   "execution_count": 20,
   "id": "cff0ac1a",
   "metadata": {},
   "outputs": [
    {
     "name": "stdout",
     "output_type": "stream",
     "text": [
      "Apple\n",
      "banana\n",
      "charry\n",
      "orange\n",
      "sum of value : 1\n",
      "sum of value : 3\n",
      "sum of value : 6\n",
      "sum of value : 10\n",
      "sum of value : 15\n",
      "sum of value : 21\n",
      "total sum : 21\n",
      "\n",
      "----------range(start,stop,skep)---function---------------------------\n",
      "num : 5\n",
      "num : 7\n",
      "num : 9\n",
      "Done\n"
     ]
    }
   ],
   "source": [
    "#---for--loop---------\n",
    "list = [\"Apple\",\"banana\",\"charry\",\"orange\"]\n",
    "for item in list:\n",
    "    print(item)\n",
    "\n",
    "list2 = [1, 2, 3, 4, 5, 6]\n",
    "sum=0\n",
    "for item in list2:\n",
    "    sum +=item\n",
    "    print(\"sum of value :\",sum)\n",
    "print(\"total sum :\",sum)\n",
    "\n",
    "print(\"\")\n",
    "print(\"----------range(start,stop,skep)---function---------------------------\")\n",
    "for n in range(5,10,2):\n",
    "    print(\"num :\",n)\n",
    "else:\n",
    "    print(\"Done\")"
   ]
  },
  {
   "cell_type": "code",
   "execution_count": 23,
   "id": "49322d59",
   "metadata": {},
   "outputs": [
    {
     "name": "stdout",
     "output_type": "stream",
     "text": [
      "10\n",
      "11\n",
      "12\n",
      "13\n",
      "14\n",
      "15\n",
      "number is : 20\n",
      "number is : 21\n",
      "number is : 22\n",
      "number is : 23\n",
      "number is : 24\n",
      "number is : 26\n",
      "number is : 27\n",
      "Done\n"
     ]
    }
   ],
   "source": [
    "#---break--and countinue---------\n",
    "for i in range(10,50):\n",
    "    if i == 16:\n",
    "        break\n",
    "    print(i)\n",
    "\n",
    "#-----countinue-------------\n",
    "for i in range(20,28):\n",
    "    if i == 25:\n",
    "        continue\n",
    "    print(\"number is :\",i)\n",
    "else:\n",
    "    print(\"Done\")\n",
    "\n",
    "#----pass--------------null---statement--------\n",
    "for i in range(6):\n",
    "    pass\n"
   ]
  },
  {
   "cell_type": "code",
   "execution_count": null,
   "id": "bd092af2",
   "metadata": {},
   "outputs": [],
   "source": []
  }
 ],
 "metadata": {
  "kernelspec": {
   "display_name": "Python 3",
   "language": "python",
   "name": "python3"
  },
  "language_info": {
   "codemirror_mode": {
    "name": "ipython",
    "version": 3
   },
   "file_extension": ".py",
   "mimetype": "text/x-python",
   "name": "python",
   "nbconvert_exporter": "python",
   "pygments_lexer": "ipython3",
   "version": "3.11.4"
  }
 },
 "nbformat": 4,
 "nbformat_minor": 5
}
