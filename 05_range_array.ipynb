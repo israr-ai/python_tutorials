{
 "cells": [
  {
   "cell_type": "code",
   "execution_count": 6,
   "id": "98d43866",
   "metadata": {},
   "outputs": [
    {
     "name": "stdout",
     "output_type": "stream",
     "text": [
      "0\n",
      "1\n",
      "2\n",
      "3\n",
      "4\n"
     ]
    }
   ],
   "source": [
    "# -------Range-------------------\n",
    "for i in range(5):\n",
    "    print(i)"
   ]
  },
  {
   "cell_type": "code",
   "execution_count": 3,
   "id": "77b1a7e5",
   "metadata": {},
   "outputs": [
    {
     "name": "stdout",
     "output_type": "stream",
     "text": [
      "5\n",
      "6\n",
      "7\n",
      "8\n",
      "9\n"
     ]
    }
   ],
   "source": [
    "# -------Range--start---stop-----------------------\n",
    "for i in range(5,10):\n",
    "    print(i)"
   ]
  },
  {
   "cell_type": "code",
   "execution_count": 7,
   "id": "a9e9ed51",
   "metadata": {},
   "outputs": [
    {
     "name": "stdout",
     "output_type": "stream",
     "text": [
      "1\n",
      "3\n",
      "5\n",
      "7\n",
      "9\n"
     ]
    }
   ],
   "source": [
    "# -----------used--range---with---3--parameter-------------\n",
    "for i in range(1,10,2):\n",
    "    print(i)"
   ]
  },
  {
   "cell_type": "code",
   "execution_count": 19,
   "id": "2d9bc7b6",
   "metadata": {},
   "outputs": [
    {
     "name": "stdout",
     "output_type": "stream",
     "text": [
      "['mango', 'banana', 'apple', 'orange']\n",
      "one valle mango\n",
      "['mango', 'banana', 'apple', 'orange', 'cherry']\n",
      "['mango', 'banana', 'apple', 'orange']\n",
      "['grapes', 'banana', 'apple', 'orange']\n",
      "\n",
      "-----------find--len-----------------------------\n",
      "4\n",
      "\n",
      "----------remove--specific----value-------------------\n",
      "['banana', 'apple', 'orange']\n",
      "\n",
      "['apple', 'banana', 'orange']\n"
     ]
    }
   ],
   "source": [
    "# -----------Array---not--built--in---pyton------------------\n",
    "list =['mango','banana','apple','orange']\n",
    "print(list)\n",
    "print('one valle',list[0])\n",
    "add =list.append('cherry')\n",
    "print(list)\n",
    "\n",
    "#--remove--value----------------\n",
    "remove = list.pop() #remove last value\n",
    "print(list)\n",
    "\n",
    "#--modify--value-----------\n",
    "list[0] = 'grapes'\n",
    "print(list)\n",
    "\n",
    "#--find--length-------------\n",
    "print('')\n",
    "print(\"-----------find--len-----------------------------\")\n",
    "print(len(list))\n",
    "\n",
    "#----remove---vlaue------------------\n",
    "print('')\n",
    "print('----------remove--specific----value-------------------')\n",
    "remove = list.remove('grapes')\n",
    "print(list)\n",
    "\n",
    "#--------sort--reserve-----------------------\n",
    "print('')\n",
    "reverse = list.reverse()\n",
    "sort = list.sort()\n",
    "print(list)"
   ]
  }
 ],
 "metadata": {
  "kernelspec": {
   "display_name": "Python 3",
   "language": "python",
   "name": "python3"
  },
  "language_info": {
   "codemirror_mode": {
    "name": "ipython",
    "version": 3
   },
   "file_extension": ".py",
   "mimetype": "text/x-python",
   "name": "python",
   "nbconvert_exporter": "python",
   "pygments_lexer": "ipython3",
   "version": "3.11.4"
  }
 },
 "nbformat": 4,
 "nbformat_minor": 5
}
